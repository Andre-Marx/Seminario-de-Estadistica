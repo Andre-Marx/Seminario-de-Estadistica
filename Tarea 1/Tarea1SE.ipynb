{
 "cells": [
  {
   "cell_type": "markdown",
   "metadata": {},
   "source": [
    "### André Marx Puente Arévalo"
   ]
  },
  {
   "cell_type": "markdown",
   "metadata": {},
   "source": [
    "## Tarea 1 Primera Parte\n",
    "### Seminario de Estadística \n",
    "Debera entregar su tarea en este notebook (prohibido usar R).\n",
    "\n"
   ]
  },
  {
   "cell_type": "markdown",
   "metadata": {},
   "source": [
    "### Respuestas:\n",
    "\n",
    "1.- Ajuste un modelo de regresión multiple para los datos de crimen, explique. \n"
   ]
  },
  {
   "cell_type": "code",
   "execution_count": 1,
   "metadata": {},
   "outputs": [],
   "source": [
    "# Importamos las librerias que vamos a usar\n",
    "import statsmodels.api as sm\n",
    "import pandas as pd\n",
    "import numpy  as np  \n",
    "import matplotlib.pyplot as plt \n",
    "import warnings"
   ]
  },
  {
   "cell_type": "code",
   "execution_count": 2,
   "metadata": {},
   "outputs": [],
   "source": [
    "warnings.filterwarnings('ignore')"
   ]
  },
  {
   "cell_type": "code",
   "execution_count": 3,
   "metadata": {},
   "outputs": [],
   "source": [
    "# Fijamos una semilla\n",
    "np.random.seed(123)"
   ]
  },
  {
   "cell_type": "code",
   "execution_count": 4,
   "metadata": {},
   "outputs": [
    {
     "data": {
      "text/html": [
       "<div>\n",
       "<style scoped>\n",
       "    .dataframe tbody tr th:only-of-type {\n",
       "        vertical-align: middle;\n",
       "    }\n",
       "\n",
       "    .dataframe tbody tr th {\n",
       "        vertical-align: top;\n",
       "    }\n",
       "\n",
       "    .dataframe thead th {\n",
       "        text-align: right;\n",
       "    }\n",
       "</style>\n",
       "<table border=\"1\" class=\"dataframe\">\n",
       "  <thead>\n",
       "    <tr style=\"text-align: right;\">\n",
       "      <th></th>\n",
       "      <th>y</th>\n",
       "      <th>M</th>\n",
       "      <th>So</th>\n",
       "      <th>Ed</th>\n",
       "      <th>Po1</th>\n",
       "      <th>LF</th>\n",
       "      <th>M.F</th>\n",
       "      <th>Pop</th>\n",
       "      <th>U1</th>\n",
       "      <th>U2</th>\n",
       "      <th>GDP</th>\n",
       "    </tr>\n",
       "  </thead>\n",
       "  <tbody>\n",
       "    <tr>\n",
       "      <th>0</th>\n",
       "      <td>79.1</td>\n",
       "      <td>151</td>\n",
       "      <td>1</td>\n",
       "      <td>9.1</td>\n",
       "      <td>58</td>\n",
       "      <td>510</td>\n",
       "      <td>950</td>\n",
       "      <td>33</td>\n",
       "      <td>108</td>\n",
       "      <td>41</td>\n",
       "      <td>394</td>\n",
       "    </tr>\n",
       "    <tr>\n",
       "      <th>1</th>\n",
       "      <td>163.5</td>\n",
       "      <td>143</td>\n",
       "      <td>0</td>\n",
       "      <td>11.3</td>\n",
       "      <td>103</td>\n",
       "      <td>583</td>\n",
       "      <td>1012</td>\n",
       "      <td>13</td>\n",
       "      <td>96</td>\n",
       "      <td>36</td>\n",
       "      <td>557</td>\n",
       "    </tr>\n",
       "    <tr>\n",
       "      <th>2</th>\n",
       "      <td>57.8</td>\n",
       "      <td>142</td>\n",
       "      <td>1</td>\n",
       "      <td>8.9</td>\n",
       "      <td>45</td>\n",
       "      <td>533</td>\n",
       "      <td>969</td>\n",
       "      <td>18</td>\n",
       "      <td>94</td>\n",
       "      <td>33</td>\n",
       "      <td>318</td>\n",
       "    </tr>\n",
       "    <tr>\n",
       "      <th>3</th>\n",
       "      <td>196.9</td>\n",
       "      <td>136</td>\n",
       "      <td>0</td>\n",
       "      <td>12.1</td>\n",
       "      <td>149</td>\n",
       "      <td>577</td>\n",
       "      <td>994</td>\n",
       "      <td>157</td>\n",
       "      <td>102</td>\n",
       "      <td>39</td>\n",
       "      <td>673</td>\n",
       "    </tr>\n",
       "    <tr>\n",
       "      <th>4</th>\n",
       "      <td>123.4</td>\n",
       "      <td>141</td>\n",
       "      <td>0</td>\n",
       "      <td>12.1</td>\n",
       "      <td>109</td>\n",
       "      <td>591</td>\n",
       "      <td>985</td>\n",
       "      <td>18</td>\n",
       "      <td>91</td>\n",
       "      <td>20</td>\n",
       "      <td>578</td>\n",
       "    </tr>\n",
       "  </tbody>\n",
       "</table>\n",
       "</div>"
      ],
      "text/plain": [
       "       y    M  So    Ed  Po1   LF   M.F  Pop   U1  U2  GDP\n",
       "0   79.1  151   1   9.1   58  510   950   33  108  41  394\n",
       "1  163.5  143   0  11.3  103  583  1012   13   96  36  557\n",
       "2   57.8  142   1   8.9   45  533   969   18   94  33  318\n",
       "3  196.9  136   0  12.1  149  577   994  157  102  39  673\n",
       "4  123.4  141   0  12.1  109  591   985   18   91  20  578"
      ]
     },
     "execution_count": 4,
     "metadata": {},
     "output_type": "execute_result"
    }
   ],
   "source": [
    "# Leemos los datos y los mostramos\n",
    "datos_crime = pd.read_csv(\"crime.csv\")\n",
    "datos_crime.head()"
   ]
  },
  {
   "cell_type": "code",
   "execution_count": 5,
   "metadata": {},
   "outputs": [],
   "source": [
    "# Defino la Matriz de respuesta\n",
    "Y = datos_crime.iloc[ :, 0 ]\n",
    "\n",
    "# Defino la matriz de Covariables\n",
    "X = datos_crime.iloc[ : , 1: ]"
   ]
  },
  {
   "cell_type": "code",
   "execution_count": 6,
   "metadata": {},
   "outputs": [],
   "source": [
    "#  Creamos el modelo sin intercepto\n",
    "# Nota: Estoy ajustando con el modelo de mínimos cuadrados ordinarios (OLS)\n",
    "modelo0 = sm.OLS(Y, X).fit()"
   ]
  },
  {
   "cell_type": "code",
   "execution_count": 7,
   "metadata": {},
   "outputs": [
    {
     "name": "stdout",
     "output_type": "stream",
     "text": [
      "Parámetros:  M      0.614559\n",
      "So     9.643184\n",
      "Ed     8.679113\n",
      "Po1    1.236030\n",
      "LF     0.194131\n",
      "M.F   -0.264325\n",
      "Pop   -0.129785\n",
      "U1    -0.086498\n",
      "U2     1.115094\n",
      "GDP   -0.130193\n",
      "dtype: float64\n"
     ]
    }
   ],
   "source": [
    "# Calculamos los valores de las Betas \n",
    "parametros0 = sm.OLS(Y, X).fit().params\n",
    "print(\"Parámetros: \", parametros0)"
   ]
  },
  {
   "cell_type": "code",
   "execution_count": 8,
   "metadata": {},
   "outputs": [
    {
     "name": "stdout",
     "output_type": "stream",
     "text": [
      "                                 OLS Regression Results                                \n",
      "=======================================================================================\n",
      "Dep. Variable:                      y   R-squared (uncentered):                   0.936\n",
      "Model:                            OLS   Adj. R-squared (uncentered):              0.918\n",
      "Method:                 Least Squares   F-statistic:                              53.86\n",
      "Date:                Fri, 18 Oct 2019   Prob (F-statistic):                    5.58e-19\n",
      "Time:                        20:30:43   Log-Likelihood:                         -217.81\n",
      "No. Observations:                  47   AIC:                                      455.6\n",
      "Df Residuals:                      37   BIC:                                      474.1\n",
      "Df Model:                          10                                                  \n",
      "Covariance Type:            nonrobust                                                  \n",
      "==============================================================================\n",
      "                 coef    std err          t      P>|t|      [0.025      0.975]\n",
      "------------------------------------------------------------------------------\n",
      "M              0.6146      0.491      1.251      0.219      -0.381       1.610\n",
      "So             9.6432     15.134      0.637      0.528     -21.022      40.308\n",
      "Ed             8.6791      7.730      1.123      0.269      -6.984      24.342\n",
      "Po1            1.2360      0.271      4.557      0.000       0.686       1.786\n",
      "LF             0.1941      0.173      1.123      0.269      -0.156       0.544\n",
      "M.F           -0.2643      0.175     -1.507      0.140      -0.620       0.091\n",
      "Pop           -0.1298      0.141     -0.918      0.365      -0.416       0.157\n",
      "U1            -0.0865      0.515     -0.168      0.867      -1.129       0.956\n",
      "U2             1.1151      1.034      1.079      0.288      -0.979       3.210\n",
      "GDP           -0.1302      0.103     -1.265      0.214      -0.339       0.078\n",
      "==============================================================================\n",
      "Omnibus:                        0.534   Durbin-Watson:                   2.152\n",
      "Prob(Omnibus):                  0.766   Jarque-Bera (JB):                0.080\n",
      "Skew:                           0.024   Prob(JB):                        0.961\n",
      "Kurtosis:                       3.196   Cond. No.                     4.68e+03\n",
      "==============================================================================\n",
      "\n",
      "Warnings:\n",
      "[1] Standard Errors assume that the covariance matrix of the errors is correctly specified.\n",
      "[2] The condition number is large, 4.68e+03. This might indicate that there are\n",
      "strong multicollinearity or other numerical problems.\n"
     ]
    }
   ],
   "source": [
    "# Vemos el resumen del modelo\n",
    "print(modelo0.summary())"
   ]
  },
  {
   "cell_type": "code",
   "execution_count": 9,
   "metadata": {},
   "outputs": [],
   "source": [
    "# Ahora, calculo el modelo con intercepto\n",
    "modelo1 = sm.OLS(Y, sm.add_constant(X)).fit()"
   ]
  },
  {
   "cell_type": "code",
   "execution_count": 10,
   "metadata": {
    "scrolled": true
   },
   "outputs": [
    {
     "name": "stdout",
     "output_type": "stream",
     "text": [
      "Parámetros:  const   -589.399852\n",
      "M          1.040580\n",
      "So        11.294643\n",
      "Ed        11.779424\n",
      "Po1        0.963636\n",
      "LF         0.106043\n",
      "M.F        0.303531\n",
      "Pop        0.090416\n",
      "U1        -0.681791\n",
      "U2         2.150278\n",
      "GDP       -0.083087\n",
      "dtype: float64\n"
     ]
    }
   ],
   "source": [
    "# Calculamos los valores de las Betas \n",
    "parametros = sm.OLS(Y, sm.add_constant(X)).fit().params\n",
    "print(\"Parámetros: \", parametros)"
   ]
  },
  {
   "cell_type": "code",
   "execution_count": 11,
   "metadata": {},
   "outputs": [
    {
     "name": "stdout",
     "output_type": "stream",
     "text": [
      "                            OLS Regression Results                            \n",
      "==============================================================================\n",
      "Dep. Variable:                      y   R-squared:                       0.684\n",
      "Model:                            OLS   Adj. R-squared:                  0.597\n",
      "Method:                 Least Squares   F-statistic:                     7.809\n",
      "Date:                Fri, 18 Oct 2019   Prob (F-statistic):           1.70e-06\n",
      "Time:                        20:30:43   Log-Likelihood:                -210.87\n",
      "No. Observations:                  47   AIC:                             443.7\n",
      "Df Residuals:                      36   BIC:                             464.1\n",
      "Df Model:                          10                                         \n",
      "Covariance Type:            nonrobust                                         \n",
      "==============================================================================\n",
      "                 coef    std err          t      P>|t|      [0.025      0.975]\n",
      "------------------------------------------------------------------------------\n",
      "const       -589.3999    167.591     -3.517      0.001    -929.289    -249.510\n",
      "M              1.0406      0.446      2.331      0.025       0.135       1.946\n",
      "So            11.2946     13.245      0.853      0.399     -15.568      38.157\n",
      "Ed            11.7794      6.818      1.728      0.093      -2.048      25.607\n",
      "Po1            0.9636      0.250      3.862      0.000       0.458       1.470\n",
      "LF             0.1060      0.153      0.692      0.493      -0.205       0.417\n",
      "M.F            0.3035      0.223      1.363      0.181      -0.148       0.755\n",
      "Pop            0.0904      0.139      0.652      0.518      -0.191       0.372\n",
      "U1            -0.6818      0.481     -1.418      0.165      -1.657       0.293\n",
      "U2             2.1503      0.951      2.262      0.030       0.222       4.079\n",
      "GDP           -0.0831      0.091     -0.913      0.367      -0.268       0.101\n",
      "==============================================================================\n",
      "Omnibus:                        1.885   Durbin-Watson:                   1.776\n",
      "Prob(Omnibus):                  0.390   Jarque-Bera (JB):                1.249\n",
      "Skew:                           0.392   Prob(JB):                        0.535\n",
      "Kurtosis:                       3.154   Cond. No.                     5.92e+04\n",
      "==============================================================================\n",
      "\n",
      "Warnings:\n",
      "[1] Standard Errors assume that the covariance matrix of the errors is correctly specified.\n",
      "[2] The condition number is large, 5.92e+04. This might indicate that there are\n",
      "strong multicollinearity or other numerical problems.\n"
     ]
    }
   ],
   "source": [
    "# Vemos el resumen del modelo\n",
    "print(modelo1.summary())"
   ]
  },
  {
   "cell_type": "markdown",
   "metadata": {},
   "source": [
    "Explicación:\n",
    "Dado que el modelo1, es decir el que tiene intercepto, tiene menor AIC y menor BIC que el modelo0 (el que no tiene intercepto), es el mejor modelo."
   ]
  },
  {
   "cell_type": "markdown",
   "metadata": {},
   "source": [
    "1. ¿Qué observaba acerca de los coeficientes obtenidos?\n",
    "\n",
    "Observo que aún se puede mejorar el modelo, debido a que observando los p-values, notamos que hay coeficientes que no son significantes para el modelo."
   ]
  },
  {
   "cell_type": "markdown",
   "metadata": {},
   "source": [
    "2. ¿Cuantos posibles submodelos puede ajustar? \n",
    "\n",
    "Puedo ajustar\n",
    "$2^{11} = 2048 $ modelos."
   ]
  },
  {
   "cell_type": "markdown",
   "metadata": {},
   "source": [
    "3. Considerando una sola covariable. ¿ Cuál es el mejor submodelo sin considerar la propiedad de consistencia del estimador que minimiza la función de Riesgo $A(f,\\hat{f})$? Grafique el modelo regresión con los datos experimentales."
   ]
  },
  {
   "cell_type": "markdown",
   "metadata": {},
   "source": [
    " Lo que haré a continuación es realizar submodelos de una sola variable y como sabemos, el AIC es un estimador que no es consistente, por lo que me quedaré con el modelo que lo minimice más."
   ]
  },
  {
   "cell_type": "code",
   "execution_count": 12,
   "metadata": {},
   "outputs": [
    {
     "name": "stdout",
     "output_type": "stream",
     "text": [
      "                                 OLS Regression Results                                \n",
      "=======================================================================================\n",
      "Dep. Variable:                      y   R-squared (uncentered):                   0.918\n",
      "Model:                            OLS   Adj. R-squared (uncentered):              0.916\n",
      "Method:                 Least Squares   F-statistic:                              513.3\n",
      "Date:                Fri, 18 Oct 2019   Prob (F-statistic):                    1.36e-26\n",
      "Time:                        20:30:43   Log-Likelihood:                         -223.61\n",
      "No. Observations:                  47   AIC:                                      449.2\n",
      "Df Residuals:                      46   BIC:                                      451.1\n",
      "Df Model:                           1                                                  \n",
      "Covariance Type:            nonrobust                                                  \n",
      "==============================================================================\n",
      "                 coef    std err          t      P>|t|      [0.025      0.975]\n",
      "------------------------------------------------------------------------------\n",
      "Po1            1.0466      0.046     22.656      0.000       0.954       1.140\n",
      "==============================================================================\n",
      "Omnibus:                        4.001   Durbin-Watson:                   2.010\n",
      "Prob(Omnibus):                  0.135   Jarque-Bera (JB):                3.263\n",
      "Skew:                          -0.642   Prob(JB):                        0.196\n",
      "Kurtosis:                       3.129   Cond. No.                         1.00\n",
      "==============================================================================\n",
      "\n",
      "Warnings:\n",
      "[1] Standard Errors assume that the covariance matrix of the errors is correctly specified.\n",
      "--------------------------------------------------------------------------------------------\n",
      "El mejor submodelo es el que tiene la covariable número 4 con un AIC de 449.21122570700936\n"
     ]
    }
   ],
   "source": [
    "Y = datos_crime.iloc[ :, 0 ]\n",
    "AIC = 10000\n",
    "k = 0\n",
    "AIC_I = 1000\n",
    "\n",
    "# El siguiente for lo que hace es crear los submodelos\n",
    "for i in range(1, 11):\n",
    "    # Matriz de covariables\n",
    "    X_AIC = datos_crime.iloc[:, i ]\n",
    "    \n",
    "    # Defino el modelo\n",
    "    modelo_AIC = sm.OLS(Y, X_AIC).fit()\n",
    "    \n",
    "    # Defino modelo con intercepto\n",
    "    modelo_AIC_I = sm.OLS(Y, sm.add_constant(X_AIC)).fit()\n",
    "    \n",
    "    #Creamos un diccionario con el AIC del modelo con intercepto y el AIC del modelo sin intercepto\n",
    "    AIC_sup = dict(one = modelo_AIC.aic, two = modelo_AIC_I.aic) \n",
    "    modeloAIC =  dict(one = modelo_AIC, two = modelo_AIC_I) #Guardamos los dos modelos (con y sin intercepto)\n",
    "    \n",
    "    #Encontramos el mínimo de los AIC's del diccionario para saber si es mejor el que tiene intercepto o no\n",
    "    AIC_min_nombre = min(AIC_sup, key=AIC_sup.get) #AIC_min_nombre guarda el nombre de la variable que contiene el AIC de los modelo\n",
    "    AIC_min_valor = min(AIC_sup.values())          #AIC_min_valor guarda mínimo valor entre los AIC's      \n",
    "    \n",
    "    # Este if compara el AIC mínimo entre los modelos con intercepto y sin intercepto de cada covariable con el AIC mínimo\n",
    "    # de los modelos anteriores que se han probado, inicializamos la variable AIC con un número muy grande para que entre la \n",
    "    # covariable al if.\n",
    "    \n",
    "    \n",
    "    if AIC_min_valor < AIC:\n",
    "        modelo = modeloAIC[AIC_min_nombre]\n",
    "        AIC = AIC_min_valor\n",
    "        # Esta variable es para saber que modelo fue el de menor AIC\n",
    "        k = i\n",
    "            \n",
    "print(modelo.summary())    \n",
    "print(\"--------------------------------------------------------------------------------------------\")\n",
    "print(f\"El mejor submodelo es el que tiene la covariable número {k} con un AIC de {AIC}\" )\n"
   ]
  },
  {
   "cell_type": "code",
   "execution_count": 13,
   "metadata": {},
   "outputs": [],
   "source": [
    "# Convertimos los parametros a numeros\n",
    "beta = float(modelo.params)\n",
    "\n",
    "# Matriz con la mejor covariable\n",
    "X_AIC = datos_crime.iloc[:, k ]\n",
    "\n",
    "# Defino la matriz de respuesta ajuastada\n",
    "Y_AIC = beta * X_AIC"
   ]
  },
  {
   "cell_type": "code",
   "execution_count": 14,
   "metadata": {},
   "outputs": [
    {
     "data": {
      "image/png": "[encoded data removed]",
      "text/plain": [
       "<Figure size 1152x288 with 1 Axes>"
      ]
     },
     "metadata": {
      "needs_background": "light"
     },
     "output_type": "display_data"
    }
   ],
   "source": [
    "# Realizamos un grafico de dispersión ( Scatter-Plot )\n",
    "plt.figure( figsize=(16,4) )                           \n",
    "plt.title(\"Scatter Plot\")                              \n",
    "plt.scatter( X_AIC, Y, label = \"Etiqueta de la serie\")    \n",
    "plt.plot( X_AIC, Y_AIC, color=\"red\")  \n",
    "plt.xlabel(\"Eje X\")                                   \n",
    "plt.ylabel(\"Eje Y\")                                    \n",
    "plt.grid()                                             \n",
    "plt.legend()                                           \n",
    "plt.show() "
   ]
  },
  {
   "cell_type": "markdown",
   "metadata": {},
   "source": [
    "4. Use el criterio de información Bayesiana para seleccionar el mejor submodelo.   "
   ]
  },
  {
   "cell_type": "markdown",
   "metadata": {},
   "source": [
    "Lo que haremos será exáctamente lo mismo que en el inciso anterior, solo que en este caso,nos quedaremos con el submodelo que minimice más el BIC."
   ]
  },
  {
   "cell_type": "code",
   "execution_count": 15,
   "metadata": {},
   "outputs": [
    {
     "name": "stdout",
     "output_type": "stream",
     "text": [
      "                                 OLS Regression Results                                \n",
      "=======================================================================================\n",
      "Dep. Variable:                      y   R-squared (uncentered):                   0.918\n",
      "Model:                            OLS   Adj. R-squared (uncentered):              0.916\n",
      "Method:                 Least Squares   F-statistic:                              513.3\n",
      "Date:                Fri, 18 Oct 2019   Prob (F-statistic):                    1.36e-26\n",
      "Time:                        20:30:44   Log-Likelihood:                         -223.61\n",
      "No. Observations:                  47   AIC:                                      449.2\n",
      "Df Residuals:                      46   BIC:                                      451.1\n",
      "Df Model:                           1                                                  \n",
      "Covariance Type:            nonrobust                                                  \n",
      "==============================================================================\n",
      "                 coef    std err          t      P>|t|      [0.025      0.975]\n",
      "------------------------------------------------------------------------------\n",
      "Po1            1.0466      0.046     22.656      0.000       0.954       1.140\n",
      "==============================================================================\n",
      "Omnibus:                        4.001   Durbin-Watson:                   2.010\n",
      "Prob(Omnibus):                  0.135   Jarque-Bera (JB):                3.263\n",
      "Skew:                          -0.642   Prob(JB):                        0.196\n",
      "Kurtosis:                       3.129   Cond. No.                         1.00\n",
      "==============================================================================\n",
      "\n",
      "Warnings:\n",
      "[1] Standard Errors assume that the covariance matrix of the errors is correctly specified.\n",
      "--------------------------------------------------------------------------------------------\n",
      "El mejor submodelo es el que tiene la covariable número 4 con un BIC de 451.0613733087194\n"
     ]
    }
   ],
   "source": [
    "Y = datos_crime.iloc[ :, 0 ]\n",
    "BIC = 10000\n",
    "k = 0\n",
    "BIC_I = 1000\n",
    "\n",
    "# El siguiente for lo que hace es crear los submodelos\n",
    "for i in range(1, 11):\n",
    "    # Matriz de covariables\n",
    "    X_BIC = datos_crime.iloc[:, i ]\n",
    "    \n",
    "    # Defino el modelo\n",
    "    modelo_BIC = sm.OLS(Y, X_BIC).fit()\n",
    "    \n",
    "    # Defino modelo con intercepto\n",
    "    modelo_BIC_I = sm.OLS(Y, sm.add_constant(X_BIC)).fit()\n",
    "    \n",
    "    #Creamos un diccionario con el BIC del modelo con intercepto y el BIC del modelo sin intercepto\n",
    "    BIC_sup = dict(one = modelo_BIC.bic, two = modelo_BIC_I.bic) \n",
    "    \n",
    "    #Guardamos los dos modelos (con y sin intercepto)\n",
    "    modeloBIC =  dict(one = modelo_BIC, two = modelo_BIC_I) \n",
    "    \n",
    "    #Encontramos el mínimo de los BIC's del diccionario para saber si es mejor el que tiene intercepto o no\n",
    "    BIC_min_nombre = min(BIC_sup, key=BIC_sup.get) #BIC_min_nombre guarda el nombre de la variable que contiene el BIC de los modelo\n",
    "    BIC_min_valor = min(BIC_sup.values())          #BIC_min_valor guarda mínimo valor entre los BIC's      \n",
    "    \n",
    "    \n",
    "    #Este if compara el BIC mínimo entre los modelos con intercepto y sin intercepto de cada covariable con el BIC mínimo\n",
    "    #de los modelos anteriores que se han probado, inicializamos la variable BIC con un número muy grande para que entre la \n",
    "    #covariable al if.\n",
    "    \n",
    "    \n",
    "    if BIC_min_valor < BIC:\n",
    "        modelo = modeloBIC[BIC_min_nombre]\n",
    "        BIC = BIC_min_valor\n",
    "        \n",
    "        # Esta variable es para saber que modelo fue el de menor BIC\n",
    "        k = i\n",
    "            \n",
    "print(modelo.summary())    \n",
    "print(\"--------------------------------------------------------------------------------------------\")\n",
    "print(f\"El mejor submodelo es el que tiene la covariable número {k} con un BIC de {BIC}\" )\n",
    "\n"
   ]
  },
  {
   "cell_type": "markdown",
   "metadata": {},
   "source": [
    "5. Ahora considerando todas las covariables reduzca al mejor submodelo."
   ]
  },
  {
   "cell_type": "markdown",
   "metadata": {},
   "source": [
    "Procederemos haciendo el método $\\textbf{Backward}$, el cual consiste en modelar con todas las variables e ir quitando la \"menos significativa\", es decir, la que tenga el p-value más alto y que sea mayor al nivel de significancia (0.05), esto lo haremos hasta que todas nuestras covariables que queden en el modelo sean significativas."
   ]
  },
  {
   "cell_type": "code",
   "execution_count": 16,
   "metadata": {},
   "outputs": [
    {
     "name": "stdout",
     "output_type": "stream",
     "text": [
      "                            OLS Regression Results                            \n",
      "==============================================================================\n",
      "Dep. Variable:                      y   R-squared:                       0.600\n",
      "Model:                            OLS   Adj. R-squared:                  0.573\n",
      "Method:                 Least Squares   F-statistic:                     21.54\n",
      "Date:                Fri, 18 Oct 2019   Prob (F-statistic):           1.14e-08\n",
      "Time:                        20:30:44   Log-Likelihood:                -216.42\n",
      "No. Observations:                  47   AIC:                             440.8\n",
      "Df Residuals:                      43   BIC:                             448.2\n",
      "Df Model:                           3                                         \n",
      "Covariance Type:            nonrobust                                         \n",
      "==============================================================================\n",
      "                 coef    std err          t      P>|t|      [0.025      0.975]\n",
      "------------------------------------------------------------------------------\n",
      "const       -405.2784    136.436     -2.970      0.005    -680.427    -130.130\n",
      "M              1.0773      0.344      3.133      0.003       0.384       1.771\n",
      "Po1            1.1167      0.145      7.677      0.000       0.823       1.410\n",
      "M.F            0.2559      0.127      2.021      0.049       0.001       0.511\n",
      "==============================================================================\n",
      "Omnibus:                        0.018   Durbin-Watson:                   1.709\n",
      "Prob(Omnibus):                  0.991   Jarque-Bera (JB):                0.127\n",
      "Skew:                           0.043   Prob(JB):                        0.939\n",
      "Kurtosis:                       2.760   Cond. No.                     3.69e+04\n",
      "==============================================================================\n",
      "\n",
      "Warnings:\n",
      "[1] Standard Errors assume that the covariance matrix of the errors is correctly specified.\n",
      "[2] The condition number is large, 3.69e+04. This might indicate that there are\n",
      "strong multicollinearity or other numerical problems.\n"
     ]
    }
   ],
   "source": [
    "# Haremos el while para que nos vaya haciendo los modelos y quite el de mayor p-value y\n",
    "# el que sea mas grane al nivel de significancia\n",
    "\n",
    "X = datos_crime.iloc[ : , 1: ]\n",
    "estpvalue = 1\n",
    "Y = datos_crime.iloc[ :, 0 ]\n",
    "\n",
    "while estpvalue > 0.05:  \n",
    "    \n",
    "    ##Ajuste del modelo\n",
    "    X = sm.add_constant(X) \n",
    "    est = sm.OLS(Y, X).fit() \n",
    "    \n",
    "    ##encuentra la covariable con el pvalue más grande\n",
    "    estpvalue1 = est.pvalues.argmax()\n",
    "    \n",
    "    ##quita la covariable \n",
    "    X = X.drop(columns = estpvalue1)\n",
    "    \n",
    "    ##actualiza el valor del pvalue más grande\n",
    "    estpvalue = est.pvalues.max() \n",
    "    \n",
    "print(est.summary())"
   ]
  },
  {
   "cell_type": "markdown",
   "metadata": {},
   "source": [
    "Este último modelo es el mejor, ya que, es el que más ha minimizado el AIC y el BIC y los p-values de las covariables son menores al nivel de significancia."
   ]
  },
  {
   "cell_type": "markdown",
   "metadata": {},
   "source": [
    "2.- Asuma un modelo de regresión lineal con errores normales y $\\sigma$ conocida. Mostrar que el modelo con AIC mas grande es el modelo con $C_p$ Mallows más pequeño."
   ]
  },
  {
   "cell_type": "markdown",
   "metadata": {},
   "source": [
    "3.- Con los datos del creditos, obtenga el performance del modelo. Obtenga el error empirico, con una muestra de entrenamiento training_sample=60,70,80,9.\n"
   ]
  },
  {
   "cell_type": "code",
   "execution_count": 17,
   "metadata": {},
   "outputs": [],
   "source": [
    "# Importamos las paqueterias que vamos a ocupar\n",
    "from sklearn.model_selection import train_test_split\n",
    "from sklearn.metrics import accuracy_score\n",
    "from sklearn.preprocessing import LabelEncoder\n",
    "from sklearn.linear_model import LogisticRegression"
   ]
  },
  {
   "cell_type": "code",
   "execution_count": 18,
   "metadata": {},
   "outputs": [
    {
     "data": {
      "text/html": [
       "<div>\n",
       "<style scoped>\n",
       "    .dataframe tbody tr th:only-of-type {\n",
       "        vertical-align: middle;\n",
       "    }\n",
       "\n",
       "    .dataframe tbody tr th {\n",
       "        vertical-align: top;\n",
       "    }\n",
       "\n",
       "    .dataframe thead th {\n",
       "        text-align: right;\n",
       "    }\n",
       "</style>\n",
       "<table border=\"1\" class=\"dataframe\">\n",
       "  <thead>\n",
       "    <tr style=\"text-align: right;\">\n",
       "      <th></th>\n",
       "      <th>Folio</th>\n",
       "      <th>Incumplimiento</th>\n",
       "      <th>Estudiante</th>\n",
       "      <th>Saldo</th>\n",
       "      <th>Ingreso</th>\n",
       "    </tr>\n",
       "  </thead>\n",
       "  <tbody>\n",
       "    <tr>\n",
       "      <th>0</th>\n",
       "      <td>1</td>\n",
       "      <td>No</td>\n",
       "      <td>No</td>\n",
       "      <td>729.526495</td>\n",
       "      <td>44361.625074</td>\n",
       "    </tr>\n",
       "    <tr>\n",
       "      <th>1</th>\n",
       "      <td>2</td>\n",
       "      <td>No</td>\n",
       "      <td>Yes</td>\n",
       "      <td>817.180407</td>\n",
       "      <td>12106.134700</td>\n",
       "    </tr>\n",
       "    <tr>\n",
       "      <th>2</th>\n",
       "      <td>3</td>\n",
       "      <td>No</td>\n",
       "      <td>No</td>\n",
       "      <td>1073.549164</td>\n",
       "      <td>31767.138947</td>\n",
       "    </tr>\n",
       "    <tr>\n",
       "      <th>3</th>\n",
       "      <td>4</td>\n",
       "      <td>No</td>\n",
       "      <td>No</td>\n",
       "      <td>529.250605</td>\n",
       "      <td>35704.493935</td>\n",
       "    </tr>\n",
       "    <tr>\n",
       "      <th>4</th>\n",
       "      <td>5</td>\n",
       "      <td>No</td>\n",
       "      <td>No</td>\n",
       "      <td>785.655883</td>\n",
       "      <td>38463.495879</td>\n",
       "    </tr>\n",
       "  </tbody>\n",
       "</table>\n",
       "</div>"
      ],
      "text/plain": [
       "   Folio Incumplimiento Estudiante        Saldo       Ingreso\n",
       "0      1             No         No   729.526495  44361.625074\n",
       "1      2             No        Yes   817.180407  12106.134700\n",
       "2      3             No         No  1073.549164  31767.138947\n",
       "3      4             No         No   529.250605  35704.493935\n",
       "4      5             No         No   785.655883  38463.495879"
      ]
     },
     "execution_count": 18,
     "metadata": {},
     "output_type": "execute_result"
    }
   ],
   "source": [
    "# Cargamos los datos\n",
    "data = pd.read_csv(\"incumplimiento.csv\")\n",
    "data.head()"
   ]
  },
  {
   "cell_type": "markdown",
   "metadata": {},
   "source": [
    "Ahora, lo que haremos será convertir las variables categóricas (\"Estudiante\" e \"Incumplimiento\") en variables numéricas."
   ]
  },
  {
   "cell_type": "code",
   "execution_count": 19,
   "metadata": {},
   "outputs": [
    {
     "data": {
      "text/html": [
       "<div>\n",
       "<style scoped>\n",
       "    .dataframe tbody tr th:only-of-type {\n",
       "        vertical-align: middle;\n",
       "    }\n",
       "\n",
       "    .dataframe tbody tr th {\n",
       "        vertical-align: top;\n",
       "    }\n",
       "\n",
       "    .dataframe thead th {\n",
       "        text-align: right;\n",
       "    }\n",
       "</style>\n",
       "<table border=\"1\" class=\"dataframe\">\n",
       "  <thead>\n",
       "    <tr style=\"text-align: right;\">\n",
       "      <th></th>\n",
       "      <th>Folio</th>\n",
       "      <th>Incumplimiento</th>\n",
       "      <th>Estudiante</th>\n",
       "      <th>Saldo</th>\n",
       "      <th>Ingreso</th>\n",
       "      <th>Estudiante_enc</th>\n",
       "    </tr>\n",
       "  </thead>\n",
       "  <tbody>\n",
       "    <tr>\n",
       "      <th>0</th>\n",
       "      <td>1</td>\n",
       "      <td>No</td>\n",
       "      <td>No</td>\n",
       "      <td>729.526495</td>\n",
       "      <td>44361.625074</td>\n",
       "      <td>0</td>\n",
       "    </tr>\n",
       "    <tr>\n",
       "      <th>1</th>\n",
       "      <td>2</td>\n",
       "      <td>No</td>\n",
       "      <td>Yes</td>\n",
       "      <td>817.180407</td>\n",
       "      <td>12106.134700</td>\n",
       "      <td>1</td>\n",
       "    </tr>\n",
       "    <tr>\n",
       "      <th>2</th>\n",
       "      <td>3</td>\n",
       "      <td>No</td>\n",
       "      <td>No</td>\n",
       "      <td>1073.549164</td>\n",
       "      <td>31767.138947</td>\n",
       "      <td>0</td>\n",
       "    </tr>\n",
       "    <tr>\n",
       "      <th>3</th>\n",
       "      <td>4</td>\n",
       "      <td>No</td>\n",
       "      <td>No</td>\n",
       "      <td>529.250605</td>\n",
       "      <td>35704.493935</td>\n",
       "      <td>0</td>\n",
       "    </tr>\n",
       "    <tr>\n",
       "      <th>4</th>\n",
       "      <td>5</td>\n",
       "      <td>No</td>\n",
       "      <td>No</td>\n",
       "      <td>785.655883</td>\n",
       "      <td>38463.495879</td>\n",
       "      <td>0</td>\n",
       "    </tr>\n",
       "  </tbody>\n",
       "</table>\n",
       "</div>"
      ],
      "text/plain": [
       "   Folio Incumplimiento Estudiante        Saldo       Ingreso  Estudiante_enc\n",
       "0      1             No         No   729.526495  44361.625074               0\n",
       "1      2             No        Yes   817.180407  12106.134700               1\n",
       "2      3             No         No  1073.549164  31767.138947               0\n",
       "3      4             No         No   529.250605  35704.493935               0\n",
       "4      5             No         No   785.655883  38463.495879               0"
      ]
     },
     "execution_count": 19,
     "metadata": {},
     "output_type": "execute_result"
    }
   ],
   "source": [
    "# Los 0 -> No estudiante y los 1 -> Si son estudiantes\n",
    "data['Estudiante_enc'] = LabelEncoder().fit_transform(data['Estudiante'])\n",
    "data.head()"
   ]
  },
  {
   "cell_type": "code",
   "execution_count": 20,
   "metadata": {},
   "outputs": [
    {
     "data": {
      "text/html": [
       "<div>\n",
       "<style scoped>\n",
       "    .dataframe tbody tr th:only-of-type {\n",
       "        vertical-align: middle;\n",
       "    }\n",
       "\n",
       "    .dataframe tbody tr th {\n",
       "        vertical-align: top;\n",
       "    }\n",
       "\n",
       "    .dataframe thead th {\n",
       "        text-align: right;\n",
       "    }\n",
       "</style>\n",
       "<table border=\"1\" class=\"dataframe\">\n",
       "  <thead>\n",
       "    <tr style=\"text-align: right;\">\n",
       "      <th></th>\n",
       "      <th>Folio</th>\n",
       "      <th>Incumplimiento</th>\n",
       "      <th>Estudiante</th>\n",
       "      <th>Saldo</th>\n",
       "      <th>Ingreso</th>\n",
       "      <th>Estudiante_enc</th>\n",
       "      <th>Incumplimiento_enc</th>\n",
       "    </tr>\n",
       "  </thead>\n",
       "  <tbody>\n",
       "    <tr>\n",
       "      <th>9995</th>\n",
       "      <td>9996</td>\n",
       "      <td>No</td>\n",
       "      <td>No</td>\n",
       "      <td>711.555020</td>\n",
       "      <td>52992.378914</td>\n",
       "      <td>0</td>\n",
       "      <td>0</td>\n",
       "    </tr>\n",
       "    <tr>\n",
       "      <th>9996</th>\n",
       "      <td>9997</td>\n",
       "      <td>No</td>\n",
       "      <td>No</td>\n",
       "      <td>757.962918</td>\n",
       "      <td>19660.721768</td>\n",
       "      <td>0</td>\n",
       "      <td>0</td>\n",
       "    </tr>\n",
       "    <tr>\n",
       "      <th>9997</th>\n",
       "      <td>9998</td>\n",
       "      <td>No</td>\n",
       "      <td>No</td>\n",
       "      <td>845.411989</td>\n",
       "      <td>58636.156984</td>\n",
       "      <td>0</td>\n",
       "      <td>0</td>\n",
       "    </tr>\n",
       "    <tr>\n",
       "      <th>9998</th>\n",
       "      <td>9999</td>\n",
       "      <td>No</td>\n",
       "      <td>No</td>\n",
       "      <td>1569.009053</td>\n",
       "      <td>36669.112365</td>\n",
       "      <td>0</td>\n",
       "      <td>0</td>\n",
       "    </tr>\n",
       "    <tr>\n",
       "      <th>9999</th>\n",
       "      <td>10000</td>\n",
       "      <td>No</td>\n",
       "      <td>Yes</td>\n",
       "      <td>200.922183</td>\n",
       "      <td>16862.952321</td>\n",
       "      <td>1</td>\n",
       "      <td>0</td>\n",
       "    </tr>\n",
       "  </tbody>\n",
       "</table>\n",
       "</div>"
      ],
      "text/plain": [
       "      Folio Incumplimiento Estudiante        Saldo       Ingreso  \\\n",
       "9995   9996             No         No   711.555020  52992.378914   \n",
       "9996   9997             No         No   757.962918  19660.721768   \n",
       "9997   9998             No         No   845.411989  58636.156984   \n",
       "9998   9999             No         No  1569.009053  36669.112365   \n",
       "9999  10000             No        Yes   200.922183  16862.952321   \n",
       "\n",
       "      Estudiante_enc  Incumplimiento_enc  \n",
       "9995               0                   0  \n",
       "9996               0                   0  \n",
       "9997               0                   0  \n",
       "9998               0                   0  \n",
       "9999               1                   0  "
      ]
     },
     "execution_count": 20,
     "metadata": {},
     "output_type": "execute_result"
    }
   ],
   "source": [
    "# 1 -> No cumple y 0 -> Si cumple\n",
    "data['Incumplimiento_enc'] = LabelEncoder().fit_transform(data['Incumplimiento'])\n",
    "data.tail()"
   ]
  },
  {
   "cell_type": "code",
   "execution_count": 21,
   "metadata": {},
   "outputs": [],
   "source": [
    "# Definimos la matriz de variables explicativas (covariables)\n",
    "x = data.iloc[:, 3:6]\n",
    "\n",
    "# Definimos la matriz de respuesta\n",
    "y = data.loc[:, \"Incumplimiento_enc\"]"
   ]
  },
  {
   "cell_type": "code",
   "execution_count": 22,
   "metadata": {},
   "outputs": [
    {
     "data": {
      "text/html": [
       "<div>\n",
       "<style scoped>\n",
       "    .dataframe tbody tr th:only-of-type {\n",
       "        vertical-align: middle;\n",
       "    }\n",
       "\n",
       "    .dataframe tbody tr th {\n",
       "        vertical-align: top;\n",
       "    }\n",
       "\n",
       "    .dataframe thead th {\n",
       "        text-align: right;\n",
       "    }\n",
       "</style>\n",
       "<table border=\"1\" class=\"dataframe\">\n",
       "  <thead>\n",
       "    <tr style=\"text-align: right;\">\n",
       "      <th></th>\n",
       "      <th>Saldo</th>\n",
       "      <th>Ingreso</th>\n",
       "      <th>Estudiante_enc</th>\n",
       "    </tr>\n",
       "  </thead>\n",
       "  <tbody>\n",
       "    <tr>\n",
       "      <th>0</th>\n",
       "      <td>729.526495</td>\n",
       "      <td>44361.625074</td>\n",
       "      <td>0</td>\n",
       "    </tr>\n",
       "    <tr>\n",
       "      <th>1</th>\n",
       "      <td>817.180407</td>\n",
       "      <td>12106.134700</td>\n",
       "      <td>1</td>\n",
       "    </tr>\n",
       "    <tr>\n",
       "      <th>2</th>\n",
       "      <td>1073.549164</td>\n",
       "      <td>31767.138947</td>\n",
       "      <td>0</td>\n",
       "    </tr>\n",
       "    <tr>\n",
       "      <th>3</th>\n",
       "      <td>529.250605</td>\n",
       "      <td>35704.493935</td>\n",
       "      <td>0</td>\n",
       "    </tr>\n",
       "    <tr>\n",
       "      <th>4</th>\n",
       "      <td>785.655883</td>\n",
       "      <td>38463.495879</td>\n",
       "      <td>0</td>\n",
       "    </tr>\n",
       "  </tbody>\n",
       "</table>\n",
       "</div>"
      ],
      "text/plain": [
       "         Saldo       Ingreso  Estudiante_enc\n",
       "0   729.526495  44361.625074               0\n",
       "1   817.180407  12106.134700               1\n",
       "2  1073.549164  31767.138947               0\n",
       "3   529.250605  35704.493935               0\n",
       "4   785.655883  38463.495879               0"
      ]
     },
     "execution_count": 22,
     "metadata": {},
     "output_type": "execute_result"
    }
   ],
   "source": [
    "x.head()"
   ]
  },
  {
   "cell_type": "code",
   "execution_count": 23,
   "metadata": {},
   "outputs": [
    {
     "name": "stdout",
     "output_type": "stream",
     "text": [
      "Las betas son: [ 5.73384566e-03  2.94312132e-06 -6.48630532e-01]\n",
      "Intercepta al eje en: [-10.86103156]\n"
     ]
    }
   ],
   "source": [
    "# Ajustamos un modelo de regresion logistica\n",
    "model = LogisticRegression(C = 100, solver = 'newton-cg', max_iter = 10000).fit(x, y) # c es parametro de penalizacion (mientras mayor mejor)\n",
    "print(f\"Las betas son: {model.coef_[0]}\")\n",
    "print(f\"Intercepta al eje en: {model.intercept_}\")"
   ]
  },
  {
   "cell_type": "markdown",
   "metadata": {},
   "source": [
    "A continuacion, definiremos los porcentajes que serán para la parte de training (entrenamiento) y test (predicción)."
   ]
  },
  {
   "cell_type": "code",
   "execution_count": 24,
   "metadata": {},
   "outputs": [],
   "source": [
    "# Definimos un vector que contenga los porcentajes para el test_sample\n",
    "porcentajes = np.array([1-.6, 1-.7, 1-.8, 1-.9])"
   ]
  },
  {
   "cell_type": "markdown",
   "metadata": {},
   "source": [
    "Recordemos que:\n",
    "<center> Accuracy score = 1 - Tasa de error empírico </center>"
   ]
  },
  {
   "cell_type": "code",
   "execution_count": 25,
   "metadata": {},
   "outputs": [
    {
     "name": "stdout",
     "output_type": "stream",
     "text": [
      "El accuracy score del modelo es: 0.9748773325558148\n",
      "El error empírico del modelo es: 0.02512266744418523\n"
     ]
    }
   ],
   "source": [
    "# El siguiente for lo que hace es calcular el perfomance y el error empirico del modelo\n",
    "\n",
    "i = 0\n",
    "\n",
    "# Esta lista guardara los accuracy score de los modelos\n",
    "accuracy=[]\n",
    "\n",
    "for i in porcentajes:\n",
    "    # i% de la muestra lo guarda para el test, lo demas lo guarda en el trainning\n",
    "    x_train, x_test, y_train, y_test = train_test_split(x, y, test_size = i)\n",
    "    \n",
    "    # Modelo de entrenamiento construido con datos de entrenamiento (1-i)% de la muestra\n",
    "    model = LogisticRegression(C = 100, solver = 'newton-cg', max_iter = 10000).fit(x_train, y_train)\n",
    "    \n",
    "    # Calculo cual va a ser la prediccion del modelo\n",
    "    yp0 = model.predict(x_test)\n",
    "    \n",
    "    # En esta parte rellenamos el accuracy con el respectivo accuracy score de cada\n",
    "    # training sample\n",
    "  \n",
    "    accuracy.append(accuracy_score(y_test, yp0, normalize = True))\n",
    "\n",
    "print(f\"El accuracy score del modelo es: {np.mean(accuracy)}\")\n",
    "print(f\"El error empírico del modelo es: {1-np.mean(accuracy)}\")"
   ]
  }
 ],
 "metadata": {
  "celltoolbar": "Raw Cell Format",
  "kernelspec": {
   "display_name": "Python 3",
   "language": "python",
   "name": "python3"
  },
  "language_info": {
   "codemirror_mode": {
    "name": "ipython",
    "version": 3
   },
   "file_extension": ".py",
   "mimetype": "text/x-python",
   "name": "python",
   "nbconvert_exporter": "python",
   "pygments_lexer": "ipython3",
   "version": "3.8.3"
  }
 },
 "nbformat": 4,
 "nbformat_minor": 2
}
